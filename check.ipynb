{
 "cells": [
  {
   "cell_type": "code",
   "execution_count": 17,
   "metadata": {},
   "outputs": [
    {
     "name": "stdout",
     "output_type": "stream",
     "text": [
      "1958\n",
      "Quantidade de duplicatas (não nulas) encontradas na coluna 'DOI': 51\n",
      "1931\n"
     ]
    }
   ],
   "source": [
    "# Conta a quantia de artigos, filtra as duplicatas mantendo artigos sem DOI\n",
    "import pandas as pd\n",
    "df = pd.read_csv('snowballing02_initial.csv')\n",
    "print(len(df)) \n",
    "\n",
    "\n",
    "df_non_null = df[df['DOI'].notna()]\n",
    "    \n",
    "# Identifica duplicatas apenas entre os valores não nulos\n",
    "duplicatas = df_non_null['DOI'].duplicated(keep=False)\n",
    "\n",
    "# Quantidade de duplicatas não nulas\n",
    "num_duplicatas = duplicatas.sum()\n",
    "print(f\"Quantidade de duplicatas (não nulas) encontradas na coluna 'DOI': {num_duplicatas}\")\n",
    "\n",
    "# Remove duplicatas não nulas (mantendo a primeira ocorrência)\n",
    "df_non_null_cleaned = df_non_null.drop_duplicates(subset='DOI', keep='first')\n",
    "\n",
    "# Combina as linhas sem duplicatas não nulas com as linhas onde 'DOI' é nulo\n",
    "df_cleaned = pd.concat([df_non_null_cleaned, df[df['DOI'].isna()]])\n",
    "\n",
    "# Salva o DataFrame limpo em um novo arquivo CSV, se necessário\n",
    "print(len(df_cleaned))\n",
    "df_cleaned.to_csv('snowballing03_no_dupplicates.csv', index=False)"
   ]
  },
  {
   "cell_type": "code",
   "execution_count": 2,
   "metadata": {},
   "outputs": [
    {
     "name": "stdout",
     "output_type": "stream",
     "text": [
      "1713\n",
      "Número de artigos restantes após o filtro personalizado: 1457\n",
      "Após descartar anos menores que 2020: 1235\n"
     ]
    }
   ],
   "source": [
    "# Eliminação automática a partir de critérios de inclusão simples\n",
    "import pandas as pd\n",
    "\n",
    "df = pd.read_csv('snowballing03_no_dupplicates.csv')\n",
    "\n",
    "keywords_title = ['radiomics', 'network', 'redes', 'radiômica', 'oncology', 'cancer', 'feature selection']\n",
    "keywords_abstract = ['radiomics', 'network', 'redes', 'radiômica', 'oncology', 'cancer', 'feature selection']\n",
    "exclusao_title = [\n",
    "    'review', 'meta-analysis', 'protocol', 'survey', 'case study',\n",
    "    'genomics', 'proteomics', 'cardiology', 'neurology', 'pediatrics',\n",
    "    'epidemiology', 'public health', 'prevention', 'screening', 'non-cancer',\n",
    "    'stroke', 'surgery', 'cardiac',\n",
    "]\n",
    "\n",
    "def verify_year(year):\n",
    "    if pd.isna(year):  # Verifica se o texto é NaN\n",
    "        return False\n",
    "    # Verifica se alguma das palavras-chave de exclusão está no texto\n",
    "\n",
    "    return year >= 2020\n",
    "    return any(keyword.lower() in texto.lower() for keyword in exclusao_title)\n",
    "\n",
    "def contem_palavra_exclusao(texto):\n",
    "    if pd.isna(texto):  # Verifica se o texto é NaN\n",
    "        return False\n",
    "    # Verifica se alguma das palavras-chave de exclusão está no texto\n",
    "    return any(keyword.lower() in texto.lower() for keyword in exclusao_title)\n",
    "\n",
    "def contain_at_least(texto, type):\n",
    "    if type == 'Title':\n",
    "        if pd.isna(texto):  # Verifica se o texto é NaN\n",
    "            return False\n",
    "        texto = str(texto)\n",
    "        # Verifica se ao menos uma das palavras-chave está no texto\n",
    "        return any(keyword.lower() in texto.lower() for keyword in keywords_title)\n",
    "    texto = str(texto)\n",
    "    return any(keyword.lower() in texto.lower() for keyword in keywords_abstract)\n",
    "\n",
    "# Mantém apenas linhas que contenham uma das keywords ao menos\n",
    "df_filtrado = df[\n",
    "    df.apply(lambda row: contain_at_least(row['Title'], 'Title') or \n",
    "                        contain_at_least(row['Abstract'], 'Abstract'), axis=1)\n",
    "]\n",
    "print(len(df_filtrado))\n",
    "df_filtrado = df_filtrado[\n",
    "    ~df_filtrado.apply(lambda row: contem_palavra_exclusao(row['Title']), axis=1)\n",
    "]\n",
    "\n",
    "# Exibir a quantidade de artigos restantes\n",
    "print(f\"Número de artigos restantes após o filtro personalizado: {len(df_filtrado)}\")\n",
    "\n",
    "df_filtrado = df_filtrado[\n",
    "    df_filtrado.apply(lambda row: verify_year(row['Year']), axis=1)\n",
    "]\n",
    "\n",
    "print(f\"Após descartar anos menores que 2020: {len(df_filtrado)}\")\n",
    "\n",
    "# Salvar o novo DataFrame filtrado em um arquivo CSV\n",
    "df_filtrado.to_csv('snowballing04_simple_filter.csv', index=False)"
   ]
  }
 ],
 "metadata": {
  "kernelspec": {
   "display_name": "Python 3",
   "language": "python",
   "name": "python3"
  },
  "language_info": {
   "codemirror_mode": {
    "name": "ipython",
    "version": 3
   },
   "file_extension": ".py",
   "mimetype": "text/x-python",
   "name": "python",
   "nbconvert_exporter": "python",
   "pygments_lexer": "ipython3",
   "version": "3.10.6"
  }
 },
 "nbformat": 4,
 "nbformat_minor": 2
}
